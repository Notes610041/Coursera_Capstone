{
 "cells": [
  {
   "cell_type": "markdown",
   "metadata": {},
   "source": [
    "# Capstone Project: The Battle of Neighborhoods (Week 1)\n",
    "\n",
    "# Analysis of San Francisco Neighborhoods"
   ]
  },
  {
   "cell_type": "markdown",
   "metadata": {},
   "source": [
    "## Table of Contents\n",
    "\n",
    "<div class=\"alert alert-block alert-info\" style=\"margin-top: 20px\">\n",
    "\n",
    "<font size = 3>\n",
    "\n",
    "1.  <a href=\"#item1\">Introduction</a>\n",
    "\n",
    "2.  <a href=\"#item2\">Data</a> \n",
    "    </font>\n",
    "    </div>"
   ]
  },
  {
   "cell_type": "markdown",
   "metadata": {},
   "source": [
    "## 1. Introduction <a name=\"item1\"></a>"
   ]
  },
  {
   "cell_type": "markdown",
   "metadata": {},
   "source": [
    "### 1.1 Background"
   ]
  },
  {
   "cell_type": "markdown",
   "metadata": {},
   "source": [
    "San Francisco is one of the United States' most well known cities. It is the cultural, commercial, and financial center of Northern California and is famous for its iconic Golden Gate Bridge and cable cars. As a popular tourist destination and the headquarters for numerous major international companies and banks, the city is an important global center that attracts people from far and wide to make a living there. \n",
    "\n",
    "It is important to familiarize oneself with the areas and neighborhoods of a city as diverse as San Francisco before making the move to start a business there. Prospective business owners must first understand the best location where their business will be successful. The neighborhood a small business is in will most certainly impact the number of customers it will have. In terms of location, three of the most important factors that will influence the success of a business are: \n",
    "1. Finding the location that is best suited for the business's intended target market.\n",
    "2. Understanding the location's area traffic.\n",
    "3. Finding a location that provides easy accessibilty and visibility.\n",
    "\n",
    "Of course, there are various other important factors to consider, such as the cost of rent or the crime index of a location. However, this report will focus on the three factors that were listed above to provide some preliminary insight on where one should start a new business in San Francisco. It should also be noted that although this study is focused on the city of San Francisco, the same ideas and approach can be applied to other cities as well."
   ]
  },
  {
   "cell_type": "markdown",
   "metadata": {},
   "source": [
    "### 1.2 Business Problem: Where should JB open an Indian-Italian fusion cuisine restaurant in San Francisco? "
   ]
  },
  {
   "cell_type": "markdown",
   "metadata": {},
   "source": [
    "A college friend of mine, JB, is looking to open a new Indian-Italian fusion cuisine restaurant in San Francisco. She is drawn to the city by its lively multicultural atmosphere and wishes to contribute to this melting pot. However, since there are so many neighborhoods in San Francisco, each with their own distinct area traffic and demographics of people, she is puzzled by where to start looking first. As such, JB is interested in learning more about each neighborhood and has stated several facts about her intended restaurant to help with the analysis. Her restaurant:\n",
    "- Should appeal to everyone (locals and tourists alike).\n",
    "- Is unique and stands out.\n",
    "- Will primarily serve lunch and dinner.\n",
    "- Will be moderately priced (~$$$).\n",
    "\n",
    "This report will use data science methods to identify the most promising neighborhoods for JB to start exploring for her new restaurant. The study will consider JB's intended market criteria based on the three location factors as listed in the *Background* section."
   ]
  },
  {
   "cell_type": "markdown",
   "metadata": {},
   "source": [
    "## 2. Data <a name=\"item2\"></a>"
   ]
  },
  {
   "cell_type": "markdown",
   "metadata": {},
   "source": [
    "This section will provide a description of the data and how it will be used to solve the stated business problem."
   ]
  },
  {
   "cell_type": "markdown",
   "metadata": {},
   "source": [
    "### 2.1 Description of the Data"
   ]
  },
  {
   "cell_type": "markdown",
   "metadata": {},
   "source": [
    "The following data was used to study the neighborhoods of San Francisco:\n",
    "\n",
    "1. **San Francisco GeoJSON**: Contains the neighborhoods that exist in San Francisco as well as their respective latitude and logitude coordinates. This data was sourced from: https://data.sfgov.org/Geographic-Locations-and-Boundaries/SF-Find-Neighborhoods/pty2-tcw4.\n",
    "2. **Venues in San Francisco**: A collection of all the venues in San Francisco, named *venues_df*. The dataset was pulled using the **Foursquare** API and includes each venue's name, what neighborhood they're in, their respective latitude and longitude coordinates, and their respective venue category."
   ]
  },
  {
   "cell_type": "markdown",
   "metadata": {},
   "source": [
    "### 2.2 How the Data Will Be Used to Solve the Business Problem"
   ]
  },
  {
   "cell_type": "markdown",
   "metadata": {},
   "source": [
    "Exploratory data analysis will be performed to understand the two datasets in order to solve the business problem.\n",
    "\n",
    "The San Francisco GeoJSON data will be used to show the neighborhood shapes. Each neighborhood's \"coordinates\" of the geometry object is composed of a MultiPolygon which is a multidimensional array of positions. Modifications were performed on the GeoJSON data to transform it into a polygon format that is easier to use for further analysis. This step was done before loading the data into this notebook.\n",
    "\n",
    "The Venues in San Francisco data will be used for finding all of the commerce venues associated with each neighborhood. As we are trying to understand each neighborhood's area traffic and potential to be a suitable market location that satisfies JB's criterias, the commerce venues information is used to get an impression of the kinds of people that frequent each neighborhood.\n",
    "\n",
    "In the analysis, folium will be used to visualize San Francisco and the locations of each venue of interest. One hot encoding will be used to divide the commerce venues into: Business Offices, Colleges, Hotels, Public Areas, Restaurants, Shopping Areas, and Social Places. This subdivision will allow us to analyze what commerce types each neighborhood is known for so we can better determine the one that is best suited for JB's restaurant. Finally, k-means clustering will be used on the venues dataset to see what venue categories can be used to distinguish each neighborhood cluster."
   ]
  }
 ],
 "metadata": {
  "kernelspec": {
   "display_name": "Python 3",
   "language": "python",
   "name": "python3"
  },
  "language_info": {
   "codemirror_mode": {
    "name": "ipython",
    "version": 3
   },
   "file_extension": ".py",
   "mimetype": "text/x-python",
   "name": "python",
   "nbconvert_exporter": "python",
   "pygments_lexer": "ipython3",
   "version": "3.7.4"
  }
 },
 "nbformat": 4,
 "nbformat_minor": 2
}
